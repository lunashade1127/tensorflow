{
  "nbformat": 4,
  "nbformat_minor": 0,
  "metadata": {
    "colab": {
      "name": "print関数",
      "provenance": [],
      "collapsed_sections": [],
      "include_colab_link": true
    },
    "kernelspec": {
      "name": "python3",
      "display_name": "Python 3"
    }
  },
  "cells": [
    {
      "cell_type": "markdown",
      "metadata": {
        "id": "view-in-github",
        "colab_type": "text"
      },
      "source": [
        "<a href=\"https://colab.research.google.com/github/lunashade1127/tensorflow/blob/master/print%E9%96%A2%E6%95%B0.ipynb\" target=\"_parent\"><img src=\"https://colab.research.google.com/assets/colab-badge.svg\" alt=\"Open In Colab\"/></a>"
      ]
    },
    {
      "cell_type": "code",
      "metadata": {
        "id": "R0higgtD9-p8",
        "colab_type": "code",
        "colab": {}
      },
      "source": [
        ""
      ],
      "execution_count": 0,
      "outputs": []
    },
    {
      "cell_type": "markdown",
      "metadata": {
        "id": "kAGrpeQI-cWN",
        "colab_type": "text"
      },
      "source": [
        "# print関数の基本"
      ]
    },
    {
      "cell_type": "code",
      "metadata": {
        "id": "DmAmcYu5-ggx",
        "colab_type": "code",
        "colab": {
          "base_uri": "https://localhost:8080/",
          "height": 85
        },
        "outputId": "9a0b402f-c83b-442d-ee40-a31ddc628f17"
      },
      "source": [
        "print('諸行無常') # '諸行無常'が出力される\n",
        " \n",
        "x = '諸行無常'\n",
        "print(x) # '諸行無常'が出力される\n",
        " \n",
        "y = 2019\n",
        "print(y) # 2019が出力される\n",
        " \n",
        "print(x, y) # 諸行無常 2019が出力される"
      ],
      "execution_count": 4,
      "outputs": [
        {
          "output_type": "stream",
          "text": [
            "諸行無常\n",
            "諸行無常\n",
            "2019\n",
            "諸行無常 2019\n"
          ],
          "name": "stdout"
        }
      ]
    },
    {
      "cell_type": "markdown",
      "metadata": {
        "id": "bQhcIAlZ_7AK",
        "colab_type": "text"
      },
      "source": [
        "\n"
      ]
    },
    {
      "cell_type": "markdown",
      "metadata": {
        "id": "nW8MLKIVAMzF",
        "colab_type": "text"
      },
      "source": [
        "# 改行させない"
      ]
    },
    {
      "cell_type": "code",
      "metadata": {
        "id": "SXt7pNayARJD",
        "colab_type": "code",
        "colab": {
          "base_uri": "https://localhost:8080/",
          "height": 34
        },
        "outputId": "690d946b-c408-407d-96a4-c7b1d50ac716"
      },
      "source": [
        "print('西郷', end='')\n",
        "print('隆盛', end='')"
      ],
      "execution_count": 2,
      "outputs": [
        {
          "output_type": "stream",
          "text": [
            "西郷隆盛"
          ],
          "name": "stdout"
        }
      ]
    },
    {
      "cell_type": "markdown",
      "metadata": {
        "id": "U4JBfOKoBDzU",
        "colab_type": "text"
      },
      "source": [
        "# 文字列結合とstr関数"
      ]
    },
    {
      "cell_type": "code",
      "metadata": {
        "id": "aJoUYYXfBJDy",
        "colab_type": "code",
        "colab": {
          "base_uri": "https://localhost:8080/",
          "height": 34
        },
        "outputId": "9e8ee620-31fb-47af-8d32-65548c3332b0"
      },
      "source": [
        "aaa = '人生楽ありや'\n",
        "bbb = '苦労あるさ'\n",
        "print(aaa + ' ' + bbb) # 人生楽ありや 苦労あるさが出力される"
      ],
      "execution_count": 3,
      "outputs": [
        {
          "output_type": "stream",
          "text": [
            "人生楽ありや 苦労あるさ\n"
          ],
          "name": "stdout"
        }
      ]
    }
  ]
}